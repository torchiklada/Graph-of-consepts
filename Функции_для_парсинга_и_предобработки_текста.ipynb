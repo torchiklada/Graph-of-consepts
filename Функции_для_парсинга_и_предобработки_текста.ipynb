{
  "nbformat": 4,
  "nbformat_minor": 0,
  "metadata": {
    "colab": {
      "provenance": []
    },
    "kernelspec": {
      "name": "python3",
      "display_name": "Python 3"
    },
    "language_info": {
      "name": "python"
    }
  },
  "cells": [
    {
      "cell_type": "code",
      "source": [
        "import re\n",
        "\n",
        "from docx import Document\n",
        "import fitz\n",
        "import pydjvu\n",
        "import zipfile"
      ],
      "metadata": {
        "id": "ivX17YrhWpqC"
      },
      "execution_count": 1,
      "outputs": []
    },
    {
      "cell_type": "code",
      "source": [
        "import spacy\n",
        "from spacy import displacy\n",
        "\n",
        "nlp = spacy.load('en_core_web_trf')\n",
        "nlp.add_pipe('coreferee')"
      ],
      "metadata": {
        "id": "EhMD0I02oG5T"
      },
      "execution_count": null,
      "outputs": []
    },
    {
      "cell_type": "code",
      "execution_count": 4,
      "metadata": {
        "id": "mcl2MwssVqjf"
      },
      "outputs": [],
      "source": [
        "# предобработка текста\n",
        "def preprocess_text(text):\n",
        "\n",
        "    text = re.sub(r'\\n', ' ', text)\n",
        "    text = re.sub(r'<[^>]+>', '', text)\n",
        "    text = re.sub(r'[^\\w\\s.,!?;:]', '', text)\n",
        "    text = re.sub(r'\\s+', ' ', text)\n",
        "\n",
        "    text = text.lower()\n",
        "\n",
        "    return text.strip()"
      ]
    },
    {
      "cell_type": "code",
      "source": [
        "def extract_text_from_pdf(pdf_path):\n",
        "    text = \"\"\n",
        "    doc = fitz.open(pdf_path)\n",
        "\n",
        "    for page_num in range(len(doc)):\n",
        "        page = doc.load_page(page_num)\n",
        "        text += page.get_text(\"text\")\n",
        "\n",
        "    return text"
      ],
      "metadata": {
        "id": "I7EbAULNZIEj"
      },
      "execution_count": null,
      "outputs": []
    },
    {
      "cell_type": "code",
      "source": [
        "def extract_text_from_docx(file_path):\n",
        "\n",
        "    doc = Document(file_path)\n",
        "\n",
        "    text = []\n",
        "    for para in doc.paragraphs:\n",
        "        text.append(para.text)\n",
        "\n",
        "    return '\\n'.join(text)"
      ],
      "metadata": {
        "id": "kHR1kUrRb0up"
      },
      "execution_count": null,
      "outputs": []
    },
    {
      "cell_type": "code",
      "source": [
        "def extract_text_from_djvu(file_path):\n",
        "    doc = pydjvu.DjVuDocument(file_path)\n",
        "\n",
        "    text = []\n",
        "    for page_num in range(doc.num_pages):\n",
        "        page = doc.pages[page_num]\n",
        "        page_text = page.text\n",
        "        if page_text:\n",
        "            text.append(page_text)\n",
        "\n",
        "    return '\\n'.join(text)"
      ],
      "metadata": {
        "id": "ROnVaDAMckAq"
      },
      "execution_count": null,
      "outputs": []
    },
    {
      "cell_type": "code",
      "source": [
        "def extract_text_from_zip(zip_path):\n",
        "    with zipfile.ZipFile(zip_path, 'r') as zip_ref:\n",
        "        text = []\n",
        "\n",
        "        for file_name in zip_ref.namelist():\n",
        "            if file_name.endswith('.txt'):\n",
        "                with zip_ref.open(file_name) as file:\n",
        "                    file_text = file.read().decode('utf-8')\n",
        "                    text.append(file_text)\n",
        "\n",
        "    return '\\n'.join(text)"
      ],
      "metadata": {
        "id": "ZZ_TRSw9eC-4"
      },
      "execution_count": 6,
      "outputs": []
    },
    {
      "cell_type": "code",
      "source": [
        "# Разрешение анафоры\n",
        "def resolve_coreferences(text):\n",
        "    doc = nlp(text)\n",
        "    resolved_text = doc.text\n",
        "\n",
        "    for chain in doc._.coref_chains:\n",
        "        for mention in chain:\n",
        "            if mention.is_coref:\n",
        "                antecedent = doc[chain[0][0]:chain[0][1]]\n",
        "                if doc[mention[0]].pos_ == 'PRON':\n",
        "                    resolved_text = resolved_text.replace(doc[mention[0]:mention[1]].text, antecedent.text)\n",
        "\n",
        "    return resolved_text"
      ],
      "metadata": {
        "id": "gHz2mmGvoJ8F"
      },
      "execution_count": 7,
      "outputs": []
    }
  ]
}